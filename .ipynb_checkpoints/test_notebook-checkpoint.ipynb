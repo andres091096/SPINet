{
 "cells": [
  {
   "cell_type": "code",
   "execution_count": 1,
   "id": "d30fddc6",
   "metadata": {},
   "outputs": [],
   "source": [
    "%load_ext autoreload\n",
    "%autoreload 2"
   ]
  },
  {
   "cell_type": "code",
   "execution_count": 8,
   "id": "ed1bcbf5",
   "metadata": {},
   "outputs": [],
   "source": [
    "import matplotlib.pyplot as plt\n",
    "import numpy as np\n",
    "import torch\n",
    "import importlib\n",
    "import os\n",
    "import tqdm\n",
    "from torchvision import transforms, datasets\n",
    "\n",
    "import pytorch_ssim\n",
    "from spinet_utils import *\n",
    "from arch import get_generator"
   ]
  },
  {
   "cell_type": "code",
   "execution_count": 19,
   "id": "f956575f",
   "metadata": {},
   "outputs": [],
   "source": [
    "colum_perm = \"normal\"\n",
    "row_perm   = \"tv_order\"\n",
    "DEVICE     = \"cuda\" if torch.cuda.is_available() else \"cpu\"\n",
    "BATCH_SIZE = 1\n",
    "\n",
    "features = 64*64\n",
    "measures = 333\n",
    "network  = \"autoencoder\""
   ]
  },
  {
   "cell_type": "code",
   "execution_count": null,
   "id": "ceb2a417",
   "metadata": {},
   "outputs": [],
   "source": [
    "px = int(np.sqrt(features))\n",
    "py = px\n",
    "A, row_index, col_index = gen_sensing_matrix(features, measures, colum_perm, row_perm)"
   ]
  },
  {
   "cell_type": "code",
   "execution_count": null,
   "id": "02a3e585",
   "metadata": {},
   "outputs": [],
   "source": [
    "original_dataset = datasets.ImageFolder(root=\"./dataset/test/\", transform=transforms.Compose([\n",
    "        transforms.Resize((px,py)),\n",
    "        transforms.Grayscale(num_output_channels=1),\n",
    "]))\n",
    "\n",
    "testset_coil = datasets.ImageFolder(root=\"./dataset/test/\", transform=transforms.Compose([\n",
    "        transforms.Resize((px,py)),\n",
    "        transforms.Grayscale(num_output_channels=1),\n",
    "        SensingDiferential(A),\n",
    "        AWGN(30),\n",
    "        InverseFWHT(row_index, col_index),\n",
    "]))"
   ]
  },
  {
   "cell_type": "code",
   "execution_count": null,
   "id": "5a3d62ea",
   "metadata": {},
   "outputs": [],
   "source": [
    "targets = [s[0] for s in original_dataset]\n",
    "data    = [s[0] for s in testset_coil]\n",
    "\n",
    "test_dataset = TestDatasetFromFolder(data, targets, transforms.ToTensor())\n",
    "testloader   = torch.utils.data.DataLoader(test_dataset, batch_size=BATCH_SIZE, shuffle=False, num_workers=2)"
   ]
  },
  {
   "cell_type": "code",
   "execution_count": null,
   "id": "c91a32d9",
   "metadata": {},
   "outputs": [],
   "source": [
    "f = plt.figure(figsize=(20,5))\n",
    "cols = 8\n",
    "rows = 2\n",
    "for i in range(cols*rows):\n",
    "    sp = f.add_subplot(rows,cols,i+1)\n",
    "    sp.axis('Off')\n",
    "    plt.imshow(data[i].reshape(px,py),cmap='gray')"
   ]
  },
  {
   "cell_type": "code",
   "execution_count": null,
   "id": "725d69fd",
   "metadata": {},
   "outputs": [],
   "source": [
    "\n",
    "out_path = 'training_results/SRF' + '/'\n",
    "if not os.path.exists(out_path):\n",
    "    os.makedirs(out_path)\n",
    "        \n",
    "with torch.no_grad():\n",
    "    val_bar = tqdm.notebook.tqdm(testloader)\n",
    "    valing_results = {'mse': 0, 'psnr': 0, 'ssim': 0}\n",
    "    val_images = []\n",
    "    for val_lr, val_hr in val_bar:\n",
    "        batch_size = val_lr.size(0)\n",
    "        lr = val_lr.to(DEVICE)\n",
    "        hr = val_hr.to(DEVICE)\n",
    "        sr = netG(lr)\n",
    "        \n",
    "        batch_mse = ((lr - hr) ** 2).data.mean()\n",
    "        batch_ssim = pytorch_ssim.ssim(lr, hr).item()\n",
    "        valing_results['mse']  += batch_mse  \n",
    "        valing_results['psnr'] += 10 * np.log10((hr.max()**2) / batch_mse)\n",
    "        valing_results['ssim'] += batch_ssim\n",
    "       \n",
    "    valing_results['mse']  /= len(val_bar)\n",
    "    valing_results['psnr'] /= len(val_bar)\n",
    "    valing_results['ssim'] /= len(val_bar)"
   ]
  },
  {
   "cell_type": "code",
   "execution_count": null,
   "id": "4cb734bb",
   "metadata": {},
   "outputs": [],
   "source": [
    "netG = get_generator(network).to(DEVICE)\n",
    "netG.load_state_dict(torch.load('model_zoo/autoencoder.pth'))\n",
    "netG.eval()\n",
    "\n",
    "print('# generator parameters: {:,}'.format(sum(param.numel() for param in netG.parameters())))"
   ]
  },
  {
   "cell_type": "code",
   "execution_count": 18,
   "id": "d4397ca8",
   "metadata": {},
   "outputs": [
    {
     "data": {
      "text/plain": [
       "{'mse': tensor(0.0116), 'psnr': tensor(18.8487), 'ssim': 0.6658357441425323}"
      ]
     },
     "execution_count": 18,
     "metadata": {},
     "output_type": "execute_result"
    }
   ],
   "source": [
    "valing_results"
   ]
  }
 ],
 "metadata": {
  "kernelspec": {
   "display_name": "Python 3",
   "language": "python",
   "name": "python3"
  },
  "language_info": {
   "codemirror_mode": {
    "name": "ipython",
    "version": 3
   },
   "file_extension": ".py",
   "mimetype": "text/x-python",
   "name": "python",
   "nbconvert_exporter": "python",
   "pygments_lexer": "ipython3",
   "version": "3.8.8"
  }
 },
 "nbformat": 4,
 "nbformat_minor": 5
}
